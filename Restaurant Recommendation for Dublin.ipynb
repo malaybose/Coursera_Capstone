{
    "cells": [
        {
            "cell_type": "markdown",
            "metadata": {
                "collapsed": true
            },
            "source": "                                        #Restaurant recommendation in Dublin by Neighbourhood\n\n#Background:\n\nDublin is the capital of Republic of Ireland with a population of c2M. The economy of Dublin has thrived over the last decade. There is a significant increase in the number of Multinationals that are choosing to establish their European offices in Dublin.\nThis has resulted in a massive increase in cultural diversity in Dublin. Traditionally known for its pub culture, Dublin is now becoming a major attraction for foodies. I wanted to look at restaurant distribution in the city of Dublin. This will be of equal interest to anyone who is looking to open a new restaurant in Dublin or simply looking to try out a new restaurant in a neighbourhood previously unknown.\nI will cluster the 4 sub divisions (South County, Dunlaoghaire-Rathdown, City, Fingal) of Dublin based on postcode (1-24) and study how each post code offers different categories of restaurants and provide recommendation of the categories that are popular in each of the sub divisions.\n\n#Target Audience:\n\nImmigrants: Dublin saw a whopping increase in the number of immigrants coming into Ireland in the last number of years. Most of the immigrants are IT and Technology workforce for the Multinationals. The latest population statistics show of the 88600 persons who migrated to Ireland, two-thirds (61700) were foreign nationals. A vast majority of them live in Dublin or surrounding areas. \n\n#Data\n\nThe original list of Dublin\u2019s postal districts is downloaded from wikipedia (https://en.wikipedia.org/wiki/List_of_Dublin_postal_districts). I will retrieve the geographical coordinates using API - OpenCageGeo Code.\nI will clean up the data to add another column to classify which sub division the post code belongs to. The headings of the data frame will be Post Code and sub division. Following this I will get the venues using FourSquare API with latitudes and longitudes and add merge to the data frame. \nI will then produce an interactive visualisation of the Dublin Map using Folium. The venue category will be food and classified into sub categories using K Means. "
        }
    ],
    "metadata": {
        "kernelspec": {
            "display_name": "Python 3.6",
            "language": "python",
            "name": "python3"
        },
        "language_info": {
            "codemirror_mode": {
                "name": "ipython",
                "version": 3
            },
            "file_extension": ".py",
            "mimetype": "text/x-python",
            "name": "python",
            "nbconvert_exporter": "python",
            "pygments_lexer": "ipython3",
            "version": "3.6.8"
        }
    },
    "nbformat": 4,
    "nbformat_minor": 1
}